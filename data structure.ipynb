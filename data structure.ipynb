{
 "cells": [
  {
   "cell_type": "code",
   "execution_count": 55,
   "metadata": {
    "collapsed": false
   },
   "outputs": [
    {
     "name": "stdout",
     "output_type": "stream",
     "text": [
      "[45, 32, 24, 30, 20]\n",
      "[20, 30, 24, 45, 32]\n"
     ]
    }
   ],
   "source": [
    "data= [20,30,24,45,32]\n",
    "def heap_sort(data, n, reverse=False):\n",
    "    limit = range(0,(n/2)+1)\n",
    "    for k in limit[::-1]:\n",
    "        heapify(data, k, heap_size, reverse)\n",
    "\n",
    "def heapify(data, i, heap_size, reverse):\n",
    "    left =i*2+1\n",
    "    right =i*2+2\n",
    "    max_element = i\n",
    "    if reverse:\n",
    "        if left < heap_size and data[left] > data[i]:\n",
    "            max_element = left\n",
    "        if right < heap_size and data[right] > data[max_element]:\n",
    "            max_element = right\n",
    "    else:\n",
    "        if left < heap_size and data[left] < data[i]:\n",
    "            max_element = left\n",
    "        if right < heap_size and data[right] < data[max_element]:\n",
    "            max_element = right\n",
    "    if max_element != i :\n",
    "        data[max_element], data[i] = data[i], data[max_element]\n",
    "        heapify(data, max_element,heap_size,reverse)\n",
    "\n",
    "heap_size = len(data)\n",
    "heap_sort(data, heap_size,True)\n",
    "print data\n",
    "heap_sort(data, heap_size)\n",
    "print data\n"
   ]
  }
 ],
 "metadata": {
  "kernelspec": {
   "display_name": "Python 2",
   "language": "python",
   "name": "python2"
  },
  "language_info": {
   "codemirror_mode": {
    "name": "ipython",
    "version": 2
   },
   "file_extension": ".py",
   "mimetype": "text/x-python",
   "name": "python",
   "nbconvert_exporter": "python",
   "pygments_lexer": "ipython2",
   "version": "2.7.5"
  }
 },
 "nbformat": 4,
 "nbformat_minor": 2
}
